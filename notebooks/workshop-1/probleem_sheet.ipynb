{
 "cells": [
  {
   "cell_type": "markdown",
   "metadata": {
    "colab_type": "text",
    "id": "Q25FKmGohQgP"
   },
   "source": [
    "#### Problem 1:"
   ]
  },
  {
   "cell_type": "markdown",
   "metadata": {},
   "source": [
    "In this task you will do some basic datafile manipulation to learn how to import and work with .csv files. Please have a quick look at the \"solar_temp_dataset.csv\" to see the format of the file, it contains the history of temperature and sunlight radiation in London over the past two weeks."
   ]
  },
  {
   "cell_type": "markdown",
   "metadata": {},
   "source": [
    "Import `pandas` as ```pd``` and use the function ```pd.read_csv()``` with the appropriate settings for `delimiter`, `parse_dates`, and `skiprows` to import the datafile and save it in a variable named \"dataset\". If you are not familiar with these settings, read the pandas online documentation which you can find by searching the command on google."
   ]
  },
  {
   "cell_type": "code",
   "execution_count": 0,
   "metadata": {
    "colab": {},
    "colab_type": "code",
    "id": "VDqUM5oxswW0"
   },
   "outputs": [],
   "source": [
    "# Write your solution here"
   ]
  },
  {
   "cell_type": "markdown",
   "metadata": {},
   "source": [
    "Print out the `.head()` function on your variable to see if the format of the imported file suits your needs. Google how to pick out separate columns from the pandas dataframe object, and see if they behave as numpy arrays. "
   ]
  },
  {
   "cell_type": "code",
   "execution_count": null,
   "metadata": {},
   "outputs": [],
   "source": [
    "# Write your solution here"
   ]
  },
  {
   "cell_type": "markdown",
   "metadata": {},
   "source": [
    "In one plot, plot the temperature and radiation as a function of time. Is there an obvious correlation between these two variables, would you expect it to be there?"
   ]
  },
  {
   "cell_type": "code",
   "execution_count": null,
   "metadata": {},
   "outputs": [],
   "source": [
    "# Write your solution here"
   ]
  },
  {
   "cell_type": "markdown",
   "metadata": {},
   "source": [
    "Plot a scale for the temperature on the left vertical axis of the plot, and a scale for the radiation on the right vertical axis of the plot. Make sure to also include vertical labels, appropriately labeled horizontal time steps, and a legend. Try to make the plot as publishable as possible."
   ]
  },
  {
   "cell_type": "markdown",
   "metadata": {
    "colab_type": "text",
    "id": "HG0NNPZhhQgR"
   },
   "source": [
    "#### Problem 2:"
   ]
  },
  {
   "cell_type": "markdown",
   "metadata": {},
   "source": [
    "Use the temperature data from the previous problem, and the `boxplot` function included in the `matplotlib` library to plot the temperature distribution. Interpret the various lines in the boxplot. Plot the same data as a histogram in another subplot, how do the respective features of these two plots correspond, when do you think it's useful to use boxplots instead of histograms?"
   ]
  },
  {
   "cell_type": "code",
   "execution_count": 0,
   "metadata": {
    "colab": {},
    "colab_type": "code",
    "id": "f_LnTfuDswW6"
   },
   "outputs": [],
   "source": [
    "# Write your solution here"
   ]
  },
  {
   "cell_type": "markdown",
   "metadata": {
    "colab_type": "text",
    "id": "bmQBIM1xswW9"
   },
   "source": [
    "#### Problem 3"
   ]
  },
  {
   "cell_type": "markdown",
   "metadata": {},
   "source": [
    "Create a numpy array with 200 linearly rising points, that follow the linear equation $y = 3.14x + 2.718$. Add gaussian noise with `mean = 0` and `std = 100` to the data. Plot the resulting $y$ data as a function of $x$.\n",
    "\n",
    "_Hint:_\n",
    "Look at `np.linspace` and `np.random`"
   ]
  },
  {
   "cell_type": "code",
   "execution_count": 0,
   "metadata": {
    "colab": {},
    "colab_type": "code",
    "id": "k8QaYfaNswW_"
   },
   "outputs": [],
   "source": [
    "# Write your solution here"
   ]
  }
 ],
 "metadata": {
  "colab": {
   "collapsed_sections": [],
   "name": "problem_sheet_1.ipynb",
   "provenance": [],
   "version": "0.3.2"
  },
  "kernelspec": {
   "display_name": "Python 3",
   "language": "python",
   "name": "python3"
  },
  "language_info": {
   "codemirror_mode": {
    "name": "ipython",
    "version": 3
   },
   "file_extension": ".py",
   "mimetype": "text/x-python",
   "name": "python",
   "nbconvert_exporter": "python",
   "pygments_lexer": "ipython3",
   "version": "3.7.3"
  }
 },
 "nbformat": 4,
 "nbformat_minor": 1
}
