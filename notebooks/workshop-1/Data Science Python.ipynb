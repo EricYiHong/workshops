{
 "cells": [
  {
   "cell_type": "markdown",
   "metadata": {},
   "source": [
    "# Data Science Python"
   ]
  },
  {
   "cell_type": "markdown",
   "metadata": {},
   "source": [
    "The goal is to learn about Python and commonly used Data Science libraries in the field.\n",
    "\n",
    "We'll go over a bit of Python, Numpy and Pandas and then we'll load a WHO dataset and try to predict life expectancy given various factors."
   ]
  },
  {
   "cell_type": "markdown",
   "metadata": {},
   "source": [
    "## 1. Basic Python"
   ]
  },
  {
   "cell_type": "markdown",
   "metadata": {},
   "source": [
    "#### Variables\n",
    "\n",
    "Variables allow for storing any value with a label.\n",
    "They can be used for later operations."
   ]
  },
  {
   "cell_type": "code",
   "execution_count": null,
   "metadata": {},
   "outputs": [],
   "source": [
    "my_int = 3 # integer\n",
    "my_float = 3.14 # floating point\n",
    "my_string = \"hello\" # string\n",
    "my_list = [5, 23, 5] # list\n",
    "my_dict = { \"alice\": 20, \"bob\": 21 } # dictionary\n",
    "\n",
    "print(my_int)\n",
    "print(my_float)\n",
    "print(my_string)\n",
    "print(my_list[1])\n",
    "print(my_dict[\"bob\"])"
   ]
  },
  {
   "cell_type": "markdown",
   "metadata": {},
   "source": [
    "Variables can be used with operators."
   ]
  },
  {
   "cell_type": "code",
   "execution_count": null,
   "metadata": {},
   "outputs": [],
   "source": [
    "one = 1\n",
    "two = 2\n",
    "\n",
    "res = one + two\n",
    "print(res)"
   ]
  },
  {
   "cell_type": "markdown",
   "metadata": {},
   "source": [
    "#### Control flow\n",
    "\n",
    "Control flow allows us to define conditions and branch of to different parts of code as we desire."
   ]
  },
  {
   "cell_type": "code",
   "execution_count": null,
   "metadata": {},
   "outputs": [],
   "source": [
    "age = 20\n",
    "\n",
    "if age < 18:\n",
    "    print(\"You are under 18\")\n",
    "elif age >= 18 and age < 40:\n",
    "    print(\"You are between 18 and 40\")\n",
    "else:\n",
    "    print(\"You are over 40\")"
   ]
  },
  {
   "cell_type": "markdown",
   "metadata": {},
   "source": [
    "#### Loops\n",
    "\n",
    "Repeat code until a condition is satisfied.\n",
    "\n",
    "For loops are typically used to iterate over lists."
   ]
  },
  {
   "cell_type": "code",
   "execution_count": null,
   "metadata": {},
   "outputs": [],
   "source": [
    "counter = 0\n",
    "while counter < 5:\n",
    "    print(counter)\n",
    "    counter += 1"
   ]
  },
  {
   "cell_type": "code",
   "execution_count": null,
   "metadata": {},
   "outputs": [],
   "source": [
    "elems = [4, 334, 56]\n",
    "\n",
    "for elem in elems:\n",
    "    print(elem)"
   ]
  },
  {
   "cell_type": "markdown",
   "metadata": {},
   "source": [
    "#### Functions\n",
    "\n",
    "Functions allow to define routines that take inputs and return ouputs."
   ]
  },
  {
   "cell_type": "code",
   "execution_count": null,
   "metadata": {},
   "outputs": [],
   "source": [
    "def add(input1, input2):\n",
    "    return input1 + input2\n",
    "\n",
    "res = add(1, 2)\n",
    "print(res)"
   ]
  },
  {
   "cell_type": "markdown",
   "metadata": {},
   "source": [
    "Functions can also be defined inline or anonymously, which we call lambda functions.\n",
    "\n",
    "This is a brief example of what we call functional programming.\n",
    "\n",
    "`map` is a function that takes as arguments a function and a list. It returns a new list with the given function applied to every element of the list."
   ]
  },
  {
   "cell_type": "code",
   "execution_count": null,
   "metadata": {},
   "outputs": [],
   "source": [
    "arr = [1, 2, 3]\n",
    "\n",
    "arr = map(lambda x: x + 1, arr)\n",
    "\n",
    "list(arr)"
   ]
  },
  {
   "cell_type": "markdown",
   "metadata": {},
   "source": [
    "#### Classes\n",
    "\n",
    "Classes allow for the creation of custom data types by composing already existing data types. The variables that compose a class are called attributes.\n",
    "\n",
    "Functions, called methods in the context on a class can act upon the attributes of that class.\n",
    "\n",
    "A class exists as an abstract blueprint. We say we instantiate a class when we define it into a variable. An instantiated class is called an object.\n",
    "\n",
    "`self` refers to the current instance and allows the methods to act on it."
   ]
  },
  {
   "cell_type": "code",
   "execution_count": null,
   "metadata": {},
   "outputs": [],
   "source": [
    "class Person:\n",
    "    def __init__(self, name, age, university):\n",
    "        self.name = name\n",
    "        self.age = age\n",
    "        self.university = university\n",
    "        \n",
    "    def is_over_18(self):\n",
    "        return self.age >= 18\n",
    "    \n",
    "    def is_at_imperial(self):\n",
    "        return self.university == 'imperial'\n",
    "    \n",
    "    def present(self):\n",
    "        return f\"Hi I'm {self.name}, I'm {self.age} and I study at {self.university}\""
   ]
  },
  {
   "cell_type": "code",
   "execution_count": null,
   "metadata": {},
   "outputs": [],
   "source": [
    "alice = Person(\"alice\", 20, \"imperial\")\n",
    "bob = Person(\"bob\", 17, \"ucl\")\n",
    "\n",
    "print(alice.is_over_18())\n",
    "print(alice.present())\n",
    "print(bob.present())"
   ]
  },
  {
   "cell_type": "markdown",
   "metadata": {},
   "source": [
    "## 2. Numpy\n",
    "\n",
    "Numpy is a powerful computing library, mainly used to efficiently manipulate n-dimensional arrays."
   ]
  },
  {
   "cell_type": "code",
   "execution_count": null,
   "metadata": {},
   "outputs": [],
   "source": [
    "import numpy as np"
   ]
  },
  {
   "cell_type": "markdown",
   "metadata": {},
   "source": [
    "#### Creating arrays and indexing"
   ]
  },
  {
   "cell_type": "markdown",
   "metadata": {},
   "source": [
    "We create a simple array and show all the different ways of indexing.\n",
    "\n",
    "!! Note that arrays are 0-indexed so the first element is at index 0, second element at index 1 etc\n",
    "\n",
    "The syntax is `arr[a:b:c]`.\n",
    "- a is the starting index, it is inclusive. If omitted it is assumed 0 (beginning of array)\n",
    "- b is the end index, it is exclusive. If omitted it is assumed len(arr) (end of array)\n",
    "- c is the step. If omitted it is assumed 1."
   ]
  },
  {
   "cell_type": "code",
   "execution_count": null,
   "metadata": {},
   "outputs": [],
   "source": [
    "arr = np.array([1, 2, 3, 4, 5])\n",
    "\n",
    "print(arr) # entire array\n",
    "print(arr[1]) # get second item: 2\n",
    "print(arr[-1]) # get last item: 5\n",
    "print(arr[1:3]) # get items between indices 1 (inclusive) and 3 (exclusive): [2, 3]\n",
    "print(arr[1:]) # get items from index 1 (inclusive) onwards: [2, 3, 4, 5]\n",
    "print(arr[:2]) # get items until index 2 (exclusive): [1, 2]\n",
    "print(arr[::2]) # get all items with step 2: [1, 3, 5]"
   ]
  },
  {
   "cell_type": "markdown",
   "metadata": {},
   "source": [
    "Numpy also has handy methods to create specific arrays."
   ]
  },
  {
   "cell_type": "code",
   "execution_count": null,
   "metadata": {},
   "outputs": [],
   "source": [
    "np.zeros(5) # Create all zeros array of size 5"
   ]
  },
  {
   "cell_type": "code",
   "execution_count": null,
   "metadata": {},
   "outputs": [],
   "source": [
    "np.ones([3, 3]) # Create all ones matrix of size 3x3"
   ]
  },
  {
   "cell_type": "markdown",
   "metadata": {},
   "source": [
    "We can create n-dimensional arrays as we want to get manipulate vectors, matrices, tensors etc"
   ]
  },
  {
   "cell_type": "code",
   "execution_count": null,
   "metadata": {},
   "outputs": [],
   "source": [
    "arr = np.zeros(3) # R3 vector\n",
    "matrix = np.zeros([3, 3]) # R3x3 matrix\n",
    "tensor = np.zeros([3, 3, 3]) # R3x3x3 tensor\n",
    "\n",
    "tensor[1][2][0] # Access element"
   ]
  },
  {
   "cell_type": "markdown",
   "metadata": {},
   "source": [
    "#### Slicing"
   ]
  },
  {
   "cell_type": "code",
   "execution_count": null,
   "metadata": {},
   "outputs": [],
   "source": [
    "arr = np.array([[0,  1,  2],\n",
    "                [3,  4,  5],\n",
    "                [6,  7,  8],\n",
    "                [9, 10, 11]])\n",
    "\n",
    "print(arr[:, 0:2]) # Get all rows and columns between 0 (inclusive) and 2 (exclusive)"
   ]
  },
  {
   "cell_type": "markdown",
   "metadata": {},
   "source": [
    "#### Boolean indexing"
   ]
  },
  {
   "cell_type": "code",
   "execution_count": null,
   "metadata": {},
   "outputs": [],
   "source": [
    "a = np.arange(10) # Creates array [0, 1, 2, ..., 9]\n",
    "print(a[a < 5]) # prints [0, 1, 2, 3, 4]\n",
    "print(a[a % 2 == 0]) # prints [0, 2, 4, 6, 8]"
   ]
  },
  {
   "cell_type": "markdown",
   "metadata": {},
   "source": [
    "#### Shapes"
   ]
  },
  {
   "cell_type": "markdown",
   "metadata": {},
   "source": [
    "The `shape` method returns the dimensions of a Numpy array and is often used for debugging.\n",
    "\n",
    "The `reshape` method allows us to change the shape of our array, for instance going from a 9-dimensional vector to a 3x3 matrix."
   ]
  },
  {
   "cell_type": "code",
   "execution_count": null,
   "metadata": {},
   "outputs": [],
   "source": [
    "a = np.array([0, 1, 2])\n",
    "print(a.shape) # prints 3\n",
    "\n",
    "b = np.array([[0, 1, 2],\n",
    "              [3, 4, 5],\n",
    "              [6, 7, 8]])\n",
    "print(b.shape) # prints (3, 3)"
   ]
  },
  {
   "cell_type": "code",
   "execution_count": null,
   "metadata": {},
   "outputs": [],
   "source": [
    "a = np.arange(9)\n",
    "print(a)\n",
    "\n",
    "a = a.reshape(3, 3)\n",
    "print(a)"
   ]
  },
  {
   "cell_type": "markdown",
   "metadata": {},
   "source": [
    "If we know all the dimensions but one we can omit it by using `-1` and it will be infered by Numpy."
   ]
  },
  {
   "cell_type": "code",
   "execution_count": null,
   "metadata": {},
   "outputs": [],
   "source": [
    "a = np.arange(9)\n",
    "print(a)\n",
    "\n",
    "a = a.reshape(3, -1)\n",
    "print(a)"
   ]
  },
  {
   "cell_type": "markdown",
   "metadata": {},
   "source": [
    "#### Operations"
   ]
  },
  {
   "cell_type": "markdown",
   "metadata": {},
   "source": [
    "Numpy arrays support a very wide variety of operations such as the following:"
   ]
  },
  {
   "cell_type": "code",
   "execution_count": null,
   "metadata": {},
   "outputs": [],
   "source": [
    "a = np.arange(9)\n",
    "\n",
    "print(a * a)\n",
    "print(a / 2)\n",
    "print(a.sum())\n",
    "print(a.mean())\n",
    "print(a.dot(a))"
   ]
  },
  {
   "cell_type": "markdown",
   "metadata": {},
   "source": [
    "## 3. Pandas\n",
    "\n",
    "Pandas is a data analysis and manipulation library. It is typically used to load, manipulate and store data."
   ]
  },
  {
   "cell_type": "code",
   "execution_count": null,
   "metadata": {},
   "outputs": [],
   "source": [
    "import pandas as pd"
   ]
  },
  {
   "cell_type": "markdown",
   "metadata": {},
   "source": [
    "#### Series\n",
    "\n",
    "Series are one dimensional array-like object which have and index.\n",
    "\n",
    "Typically used to represent data across time or any value with respect to another value."
   ]
  },
  {
   "cell_type": "code",
   "execution_count": null,
   "metadata": {},
   "outputs": [],
   "source": [
    "s = pd.Series([12, 312, 56, 32, 34], index=[0, 1, 2, 3, 4])\n",
    "print(s)\n",
    "print(\"\")\n",
    "print(s[2])"
   ]
  },
  {
   "cell_type": "markdown",
   "metadata": {},
   "source": [
    "#### DataFrames\n",
    "\n",
    "DataFrames are like tables.\n",
    "\n",
    "They are two dimensional data structures with an index and columns."
   ]
  },
  {
   "cell_type": "code",
   "execution_count": null,
   "metadata": {},
   "outputs": [],
   "source": [
    "df = pd.DataFrame(\n",
    "    {\n",
    "        'col1': [1, 2],\n",
    "        'col2': [3, 4]\n",
    "    }\n",
    ")\n",
    "\n",
    "print(df)"
   ]
  },
  {
   "cell_type": "code",
   "execution_count": null,
   "metadata": {},
   "outputs": [],
   "source": [
    "df['col2']"
   ]
  },
  {
   "cell_type": "markdown",
   "metadata": {},
   "source": [
    "## 4. WHO Example\n",
    "\n",
    "We will load a dataset by the WHO that contains 2939 lines of data about life expectancy with lots of factors.\n",
    "\n",
    "Factors include Measles rate, GDP, AIDS rate, Population, alcohol consumption etc.\n",
    "\n",
    "The dataset is located under `workshops/data/life_expectancy.csv`"
   ]
  },
  {
   "cell_type": "markdown",
   "metadata": {},
   "source": [
    "#### Loading the data\n",
    "\n",
    "We will use a Pandas DataFrame to store the data from the csv file."
   ]
  },
  {
   "cell_type": "code",
   "execution_count": null,
   "metadata": {},
   "outputs": [],
   "source": [
    "data = pd.read_csv('../../data/life_expectancy.csv')\n",
    "print(len(data))\n",
    "display(data.head())\n",
    "print(data.columns)"
   ]
  },
  {
   "cell_type": "code",
   "execution_count": null,
   "metadata": {},
   "outputs": [],
   "source": [
    "# Rename column\n",
    "data = data.rename(columns={\n",
    "    'Life expectancy ': 'life expectancy',\n",
    "    ' BMI ': 'bmi',\n",
    "})\n",
    "data.head()"
   ]
  },
  {
   "cell_type": "code",
   "execution_count": null,
   "metadata": {},
   "outputs": [],
   "source": [
    "# We have some missing data ! notice the NaN values (Not a Number)\n",
    "data.iloc[32]"
   ]
  },
  {
   "cell_type": "markdown",
   "metadata": {},
   "source": [
    "#### Removing incomplete data\n",
    "\n",
    "We remove all rows that have `null` values."
   ]
  },
  {
   "cell_type": "code",
   "execution_count": null,
   "metadata": {},
   "outputs": [],
   "source": [
    "data = data.dropna()\n",
    "len(data)"
   ]
  },
  {
   "cell_type": "markdown",
   "metadata": {},
   "source": [
    "#### Selecting data"
   ]
  },
  {
   "cell_type": "code",
   "execution_count": null,
   "metadata": {},
   "outputs": [],
   "source": [
    "data[data['Country'] == 'Ukraine']"
   ]
  },
  {
   "cell_type": "code",
   "execution_count": null,
   "metadata": {},
   "outputs": [],
   "source": [
    "data[data['Hepatitis B'] < 5]"
   ]
  },
  {
   "cell_type": "markdown",
   "metadata": {},
   "source": [
    "#### Grouping & apply\n",
    "\n",
    "Let's see how we can compute the average life expectancy per country with the data we have"
   ]
  },
  {
   "cell_type": "code",
   "execution_count": null,
   "metadata": {},
   "outputs": [],
   "source": [
    "# We start by grouping by country\n",
    "data.groupby('Country').apply(lambda it: display(it))"
   ]
  },
  {
   "cell_type": "code",
   "execution_count": null,
   "metadata": {},
   "outputs": [],
   "source": [
    "def per_country(df):\n",
    "    return df['life expectancy'].mean()\n",
    "\n",
    "avg = data.groupby('Country').apply(per_country)\n",
    "display(avg)"
   ]
  },
  {
   "cell_type": "markdown",
   "metadata": {},
   "source": [
    "#### Plotting data"
   ]
  },
  {
   "cell_type": "code",
   "execution_count": null,
   "metadata": {},
   "outputs": [],
   "source": [
    "%matplotlib inline\n",
    "import matplotlib.pyplot as plt"
   ]
  },
  {
   "cell_type": "code",
   "execution_count": null,
   "metadata": {},
   "outputs": [],
   "source": [
    "data['Country'].hist()"
   ]
  },
  {
   "cell_type": "code",
   "execution_count": null,
   "metadata": {},
   "outputs": [],
   "source": [
    "data['GDP'].hist()"
   ]
  },
  {
   "cell_type": "code",
   "execution_count": null,
   "metadata": {},
   "outputs": [],
   "source": [
    "plt.scatter(data['GDP'], data['life expectancy'])\n",
    "plt.xlabel(\"GDP\")\n",
    "plt.ylabel(\"life expectancy\")\n",
    "plt.title(\"life expectancy given GDP\")"
   ]
  },
  {
   "cell_type": "markdown",
   "metadata": {},
   "source": [
    "Next lecture we will see how we can use linear regression to fit a curve on our data.\n",
    "\n",
    "This is the basis of neural networks which we will brush upon as well."
   ]
  }
 ],
 "metadata": {
  "kernelspec": {
   "display_name": "Python 3",
   "language": "python",
   "name": "python3"
  },
  "language_info": {
   "codemirror_mode": {
    "name": "ipython",
    "version": 3
   },
   "file_extension": ".py",
   "mimetype": "text/x-python",
   "name": "python",
   "nbconvert_exporter": "python",
   "pygments_lexer": "ipython3",
   "version": "3.7.3"
  }
 },
 "nbformat": 4,
 "nbformat_minor": 4
}
